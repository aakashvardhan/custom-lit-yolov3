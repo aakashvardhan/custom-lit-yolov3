{
 "cells": [
  {
   "cell_type": "code",
   "execution_count": 1,
   "id": "fced86e6",
   "metadata": {
    "_cell_guid": "b1076dfc-b9ad-4769-8c92-a6c4dae69d19",
    "_uuid": "8f2839f25d086af736a60e9eeb907d3b93b6e0e5",
    "execution": {
     "iopub.execute_input": "2023-11-30T16:17:29.611398Z",
     "iopub.status.busy": "2023-11-30T16:17:29.611052Z",
     "iopub.status.idle": "2023-11-30T16:17:48.364504Z",
     "shell.execute_reply": "2023-11-30T16:17:48.363560Z"
    },
    "papermill": {
     "duration": 18.761866,
     "end_time": "2023-11-30T16:17:48.366951",
     "exception": false,
     "start_time": "2023-11-30T16:17:29.605085",
     "status": "completed"
    },
    "tags": []
   },
   "outputs": [
    {
     "name": "stdout",
     "output_type": "stream",
     "text": [
      "Cloning into 'custom-lit-yolov3'...\r\n",
      "remote: Enumerating objects: 217, done.\u001b[K\r\n",
      "remote: Counting objects: 100% (217/217), done.\u001b[K\r\n",
      "remote: Compressing objects: 100% (152/152), done.\u001b[K\r\n",
      "remote: Total 217 (delta 83), reused 174 (delta 40), pack-reused 0\u001b[K\r\n",
      "Receiving objects: 100% (217/217), 2.45 MiB | 13.96 MiB/s, done.\r\n",
      "Resolving deltas: 100% (83/83), done.\r\n",
      "Collecting lightning (from -r /kaggle/working/custom-lit-yolov3/requirements.txt (line 1))\r\n",
      "  Obtaining dependency information for lightning from https://files.pythonhosted.org/packages/9e/8a/9642fdbdac8de47d68464ca3be32baca3f70a432aa374705d6b91da732eb/lightning-2.1.2-py3-none-any.whl.metadata\r\n",
      "  Downloading lightning-2.1.2-py3-none-any.whl.metadata (61 kB)\r\n",
      "\u001b[2K     \u001b[90m━━━━━━━━━━━━━━━━━━━━━━━━━━━━━━━━━━━━━━━━\u001b[0m \u001b[32m61.8/61.8 kB\u001b[0m \u001b[31m2.1 MB/s\u001b[0m eta \u001b[36m0:00:00\u001b[0m\r\n",
      "\u001b[?25hCollecting pathlib (from -r /kaggle/working/custom-lit-yolov3/requirements.txt (line 2))\r\n",
      "  Downloading pathlib-1.0.1-py3-none-any.whl (14 kB)\r\n",
      "Collecting torchsummary (from -r /kaggle/working/custom-lit-yolov3/requirements.txt (line 3))\r\n",
      "  Downloading torchsummary-1.5.1-py3-none-any.whl (2.8 kB)\r\n",
      "Requirement already satisfied: kaggle in /opt/conda/lib/python3.10/site-packages (from -r /kaggle/working/custom-lit-yolov3/requirements.txt (line 4)) (1.5.16)\r\n",
      "Requirement already satisfied: torchmetrics in /opt/conda/lib/python3.10/site-packages (from -r /kaggle/working/custom-lit-yolov3/requirements.txt (line 5)) (1.2.0)\r\n",
      "Collecting torch_lr_finder (from -r /kaggle/working/custom-lit-yolov3/requirements.txt (line 6))\r\n",
      "  Downloading torch_lr_finder-0.2.1-py3-none-any.whl (11 kB)\r\n",
      "Requirement already satisfied: PyYAML<8.0,>=5.4 in /opt/conda/lib/python3.10/site-packages (from lightning->-r /kaggle/working/custom-lit-yolov3/requirements.txt (line 1)) (6.0.1)\r\n",
      "Requirement already satisfied: fsspec[http]<2025.0,>2021.06.0 in /opt/conda/lib/python3.10/site-packages (from lightning->-r /kaggle/working/custom-lit-yolov3/requirements.txt (line 1)) (2023.10.0)\r\n",
      "Requirement already satisfied: lightning-utilities<2.0,>=0.8.0 in /opt/conda/lib/python3.10/site-packages (from lightning->-r /kaggle/working/custom-lit-yolov3/requirements.txt (line 1)) (0.9.0)\r\n",
      "Requirement already satisfied: numpy<3.0,>=1.17.2 in /opt/conda/lib/python3.10/site-packages (from lightning->-r /kaggle/working/custom-lit-yolov3/requirements.txt (line 1)) (1.24.3)\r\n",
      "Requirement already satisfied: packaging<25.0,>=20.0 in /opt/conda/lib/python3.10/site-packages (from lightning->-r /kaggle/working/custom-lit-yolov3/requirements.txt (line 1)) (21.3)\r\n",
      "Requirement already satisfied: torch<4.0,>=1.12.0 in /opt/conda/lib/python3.10/site-packages (from lightning->-r /kaggle/working/custom-lit-yolov3/requirements.txt (line 1)) (2.0.0)\r\n",
      "Requirement already satisfied: tqdm<6.0,>=4.57.0 in /opt/conda/lib/python3.10/site-packages (from lightning->-r /kaggle/working/custom-lit-yolov3/requirements.txt (line 1)) (4.66.1)\r\n",
      "Requirement already satisfied: typing-extensions<6.0,>=4.0.0 in /opt/conda/lib/python3.10/site-packages (from lightning->-r /kaggle/working/custom-lit-yolov3/requirements.txt (line 1)) (4.5.0)\r\n",
      "Requirement already satisfied: pytorch-lightning in /opt/conda/lib/python3.10/site-packages (from lightning->-r /kaggle/working/custom-lit-yolov3/requirements.txt (line 1)) (2.1.1)\r\n",
      "Requirement already satisfied: six>=1.10 in /opt/conda/lib/python3.10/site-packages (from kaggle->-r /kaggle/working/custom-lit-yolov3/requirements.txt (line 4)) (1.16.0)\r\n",
      "Requirement already satisfied: certifi in /opt/conda/lib/python3.10/site-packages (from kaggle->-r /kaggle/working/custom-lit-yolov3/requirements.txt (line 4)) (2023.7.22)\r\n",
      "Requirement already satisfied: python-dateutil in /opt/conda/lib/python3.10/site-packages (from kaggle->-r /kaggle/working/custom-lit-yolov3/requirements.txt (line 4)) (2.8.2)\r\n",
      "Requirement already satisfied: requests in /opt/conda/lib/python3.10/site-packages (from kaggle->-r /kaggle/working/custom-lit-yolov3/requirements.txt (line 4)) (2.31.0)\r\n",
      "Requirement already satisfied: python-slugify in /opt/conda/lib/python3.10/site-packages (from kaggle->-r /kaggle/working/custom-lit-yolov3/requirements.txt (line 4)) (8.0.1)\r\n",
      "Requirement already satisfied: urllib3 in /opt/conda/lib/python3.10/site-packages (from kaggle->-r /kaggle/working/custom-lit-yolov3/requirements.txt (line 4)) (1.26.15)\r\n",
      "Requirement already satisfied: bleach in /opt/conda/lib/python3.10/site-packages (from kaggle->-r /kaggle/working/custom-lit-yolov3/requirements.txt (line 4)) (6.0.0)\r\n",
      "Requirement already satisfied: matplotlib in /opt/conda/lib/python3.10/site-packages (from torch_lr_finder->-r /kaggle/working/custom-lit-yolov3/requirements.txt (line 6)) (3.7.3)\r\n",
      "Requirement already satisfied: aiohttp!=4.0.0a0,!=4.0.0a1 in /opt/conda/lib/python3.10/site-packages (from fsspec[http]<2025.0,>2021.06.0->lightning->-r /kaggle/working/custom-lit-yolov3/requirements.txt (line 1)) (3.8.5)\r\n",
      "Requirement already satisfied: pyparsing!=3.0.5,>=2.0.2 in /opt/conda/lib/python3.10/site-packages (from packaging<25.0,>=20.0->lightning->-r /kaggle/working/custom-lit-yolov3/requirements.txt (line 1)) (3.0.9)\r\n",
      "Requirement already satisfied: filelock in /opt/conda/lib/python3.10/site-packages (from torch<4.0,>=1.12.0->lightning->-r /kaggle/working/custom-lit-yolov3/requirements.txt (line 1)) (3.12.2)\r\n",
      "Requirement already satisfied: sympy in /opt/conda/lib/python3.10/site-packages (from torch<4.0,>=1.12.0->lightning->-r /kaggle/working/custom-lit-yolov3/requirements.txt (line 1)) (1.12)\r\n",
      "Requirement already satisfied: networkx in /opt/conda/lib/python3.10/site-packages (from torch<4.0,>=1.12.0->lightning->-r /kaggle/working/custom-lit-yolov3/requirements.txt (line 1)) (3.1)\r\n",
      "Requirement already satisfied: jinja2 in /opt/conda/lib/python3.10/site-packages (from torch<4.0,>=1.12.0->lightning->-r /kaggle/working/custom-lit-yolov3/requirements.txt (line 1)) (3.1.2)\r\n",
      "Requirement already satisfied: webencodings in /opt/conda/lib/python3.10/site-packages (from bleach->kaggle->-r /kaggle/working/custom-lit-yolov3/requirements.txt (line 4)) (0.5.1)\r\n",
      "Requirement already satisfied: contourpy>=1.0.1 in /opt/conda/lib/python3.10/site-packages (from matplotlib->torch_lr_finder->-r /kaggle/working/custom-lit-yolov3/requirements.txt (line 6)) (1.1.0)\r\n",
      "Requirement already satisfied: cycler>=0.10 in /opt/conda/lib/python3.10/site-packages (from matplotlib->torch_lr_finder->-r /kaggle/working/custom-lit-yolov3/requirements.txt (line 6)) (0.11.0)\r\n",
      "Requirement already satisfied: fonttools>=4.22.0 in /opt/conda/lib/python3.10/site-packages (from matplotlib->torch_lr_finder->-r /kaggle/working/custom-lit-yolov3/requirements.txt (line 6)) (4.42.1)\r\n",
      "Requirement already satisfied: kiwisolver>=1.0.1 in /opt/conda/lib/python3.10/site-packages (from matplotlib->torch_lr_finder->-r /kaggle/working/custom-lit-yolov3/requirements.txt (line 6)) (1.4.4)\r\n",
      "Requirement already satisfied: pillow>=6.2.0 in /opt/conda/lib/python3.10/site-packages (from matplotlib->torch_lr_finder->-r /kaggle/working/custom-lit-yolov3/requirements.txt (line 6)) (10.1.0)\r\n",
      "Requirement already satisfied: text-unidecode>=1.3 in /opt/conda/lib/python3.10/site-packages (from python-slugify->kaggle->-r /kaggle/working/custom-lit-yolov3/requirements.txt (line 4)) (1.3)\r\n",
      "Requirement already satisfied: charset-normalizer<4,>=2 in /opt/conda/lib/python3.10/site-packages (from requests->kaggle->-r /kaggle/working/custom-lit-yolov3/requirements.txt (line 4)) (3.2.0)\r\n",
      "Requirement already satisfied: idna<4,>=2.5 in /opt/conda/lib/python3.10/site-packages (from requests->kaggle->-r /kaggle/working/custom-lit-yolov3/requirements.txt (line 4)) (3.4)\r\n",
      "Requirement already satisfied: attrs>=17.3.0 in /opt/conda/lib/python3.10/site-packages (from aiohttp!=4.0.0a0,!=4.0.0a1->fsspec[http]<2025.0,>2021.06.0->lightning->-r /kaggle/working/custom-lit-yolov3/requirements.txt (line 1)) (23.1.0)\r\n",
      "Requirement already satisfied: multidict<7.0,>=4.5 in /opt/conda/lib/python3.10/site-packages (from aiohttp!=4.0.0a0,!=4.0.0a1->fsspec[http]<2025.0,>2021.06.0->lightning->-r /kaggle/working/custom-lit-yolov3/requirements.txt (line 1)) (6.0.4)\r\n",
      "Requirement already satisfied: async-timeout<5.0,>=4.0.0a3 in /opt/conda/lib/python3.10/site-packages (from aiohttp!=4.0.0a0,!=4.0.0a1->fsspec[http]<2025.0,>2021.06.0->lightning->-r /kaggle/working/custom-lit-yolov3/requirements.txt (line 1)) (4.0.3)\r\n",
      "Requirement already satisfied: yarl<2.0,>=1.0 in /opt/conda/lib/python3.10/site-packages (from aiohttp!=4.0.0a0,!=4.0.0a1->fsspec[http]<2025.0,>2021.06.0->lightning->-r /kaggle/working/custom-lit-yolov3/requirements.txt (line 1)) (1.9.2)\r\n",
      "Requirement already satisfied: frozenlist>=1.1.1 in /opt/conda/lib/python3.10/site-packages (from aiohttp!=4.0.0a0,!=4.0.0a1->fsspec[http]<2025.0,>2021.06.0->lightning->-r /kaggle/working/custom-lit-yolov3/requirements.txt (line 1)) (1.4.0)\r\n",
      "Requirement already satisfied: aiosignal>=1.1.2 in /opt/conda/lib/python3.10/site-packages (from aiohttp!=4.0.0a0,!=4.0.0a1->fsspec[http]<2025.0,>2021.06.0->lightning->-r /kaggle/working/custom-lit-yolov3/requirements.txt (line 1)) (1.3.1)\r\n",
      "Requirement already satisfied: MarkupSafe>=2.0 in /opt/conda/lib/python3.10/site-packages (from jinja2->torch<4.0,>=1.12.0->lightning->-r /kaggle/working/custom-lit-yolov3/requirements.txt (line 1)) (2.1.3)\r\n",
      "Requirement already satisfied: mpmath>=0.19 in /opt/conda/lib/python3.10/site-packages (from sympy->torch<4.0,>=1.12.0->lightning->-r /kaggle/working/custom-lit-yolov3/requirements.txt (line 1)) (1.3.0)\r\n",
      "Downloading lightning-2.1.2-py3-none-any.whl (2.0 MB)\r\n",
      "\u001b[2K   \u001b[90m━━━━━━━━━━━━━━━━━━━━━━━━━━━━━━━━━━━━━━━━\u001b[0m \u001b[32m2.0/2.0 MB\u001b[0m \u001b[31m28.1 MB/s\u001b[0m eta \u001b[36m0:00:00\u001b[0m\r\n",
      "\u001b[?25hInstalling collected packages: torchsummary, pathlib, torch_lr_finder, lightning\r\n",
      "Successfully installed lightning-2.1.2 pathlib-1.0.1 torch_lr_finder-0.2.1 torchsummary-1.5.1\r\n"
     ]
    }
   ],
   "source": [
    "!git clone 'https://github.com/aakashvardhan/custom-lit-yolov3.git'\n",
    "%load_ext autoreload\n",
    "%autoreload 2\n",
    "import sys\n",
    "sys.path.append('/kaggle/working/custom-lit-yolov3')\n",
    "sys.path.append('/kaggle/input/pascal-voc/PASCAL_VOC')\n",
    "!pip install -r /kaggle/working/custom-lit-yolov3/requirements.txt"
   ]
  },
  {
   "cell_type": "code",
   "execution_count": 2,
   "id": "f74a92d3",
   "metadata": {
    "execution": {
     "iopub.execute_input": "2023-11-30T16:17:48.382291Z",
     "iopub.status.busy": "2023-11-30T16:17:48.381636Z",
     "iopub.status.idle": "2023-11-30T16:17:59.719974Z",
     "shell.execute_reply": "2023-11-30T16:17:59.718926Z"
    },
    "papermill": {
     "duration": 11.348338,
     "end_time": "2023-11-30T16:17:59.722305",
     "exception": false,
     "start_time": "2023-11-30T16:17:48.373967",
     "status": "completed"
    },
    "tags": []
   },
   "outputs": [
    {
     "name": "stderr",
     "output_type": "stream",
     "text": [
      "/opt/conda/lib/python3.10/site-packages/scipy/__init__.py:146: UserWarning: A NumPy version >=1.16.5 and <1.23.0 is required for this version of SciPy (detected version 1.24.3\n",
      "  warnings.warn(f\"A NumPy version >={np_minversion} and <{np_maxversion}\"\n"
     ]
    }
   ],
   "source": [
    "import torch\n",
    "from lit_model import YOLOv3LightningModule\n",
    "from lit_data_module import YOLODataModule\n",
    "from pytorch_lightning import Trainer\n",
    "import lightning as pl\n",
    "from lightning.pytorch.callbacks import ModelCheckpoint, LearningRateMonitor, RichModelSummary,EarlyStopping\n",
    "import torch\n",
    "import os\n",
    "import config as cfg"
   ]
  },
  {
   "cell_type": "code",
   "execution_count": 3,
   "id": "3aa650e3",
   "metadata": {
    "execution": {
     "iopub.execute_input": "2023-11-30T16:17:59.738333Z",
     "iopub.status.busy": "2023-11-30T16:17:59.737432Z",
     "iopub.status.idle": "2023-11-30T16:17:59.803470Z",
     "shell.execute_reply": "2023-11-30T16:17:59.802603Z"
    },
    "papermill": {
     "duration": 0.076022,
     "end_time": "2023-11-30T16:17:59.805607",
     "exception": false,
     "start_time": "2023-11-30T16:17:59.729585",
     "status": "completed"
    },
    "tags": []
   },
   "outputs": [],
   "source": [
    "cfg.DATASET = '/kaggle/input/pascal-voc-dataset-used-in-yolov3-video/PASCAL_VOC'\n",
    "cfg.IMG_DIR = cfg.DATASET + \"/images/\"\n",
    "cfg.LABEL_DIR = cfg.DATASET + \"/labels/\""
   ]
  },
  {
   "cell_type": "code",
   "execution_count": 4,
   "id": "b98c5b48",
   "metadata": {
    "execution": {
     "iopub.execute_input": "2023-11-30T16:17:59.819807Z",
     "iopub.status.busy": "2023-11-30T16:17:59.819478Z",
     "iopub.status.idle": "2023-11-30T16:17:59.892282Z",
     "shell.execute_reply": "2023-11-30T16:17:59.891453Z"
    },
    "papermill": {
     "duration": 0.082022,
     "end_time": "2023-11-30T16:17:59.894165",
     "exception": false,
     "start_time": "2023-11-30T16:17:59.812143",
     "status": "completed"
    },
    "tags": []
   },
   "outputs": [
    {
     "name": "stderr",
     "output_type": "stream",
     "text": [
      "INFO: Seed set to 1\n"
     ]
    },
    {
     "data": {
      "text/plain": [
       "1"
      ]
     },
     "execution_count": 4,
     "metadata": {},
     "output_type": "execute_result"
    }
   ],
   "source": [
    "torch.cuda.empty_cache()\n",
    "pl.seed_everything(1, workers=True)"
   ]
  },
  {
   "cell_type": "code",
   "execution_count": 5,
   "id": "2d12638d",
   "metadata": {
    "execution": {
     "iopub.execute_input": "2023-11-30T16:17:59.909346Z",
     "iopub.status.busy": "2023-11-30T16:17:59.908870Z",
     "iopub.status.idle": "2023-11-30T16:18:00.043584Z",
     "shell.execute_reply": "2023-11-30T16:18:00.042865Z"
    },
    "papermill": {
     "duration": 0.144559,
     "end_time": "2023-11-30T16:18:00.045643",
     "exception": false,
     "start_time": "2023-11-30T16:17:59.901084",
     "status": "completed"
    },
    "tags": []
   },
   "outputs": [],
   "source": [
    "train_dir = '/kaggle/input/pascal-voc-dataset-used-in-yolov3-video/PASCAL_VOC/train.csv'\n",
    "test_dir = '/kaggle/input/pascal-voc-dataset-used-in-yolov3-video/PASCAL_VOC/test.csv'\n",
    "datamodule = YOLODataModule(config=cfg, train_dir=train_dir, test_dir=test_dir)\n",
    "datamodule.setup()"
   ]
  },
  {
   "cell_type": "code",
   "execution_count": 6,
   "id": "e7ee4292",
   "metadata": {
    "execution": {
     "iopub.execute_input": "2023-11-30T16:18:00.060671Z",
     "iopub.status.busy": "2023-11-30T16:18:00.060365Z",
     "iopub.status.idle": "2023-11-30T16:18:00.770358Z",
     "shell.execute_reply": "2023-11-30T16:18:00.769584Z"
    },
    "papermill": {
     "duration": 0.720004,
     "end_time": "2023-11-30T16:18:00.772683",
     "exception": false,
     "start_time": "2023-11-30T16:18:00.052679",
     "status": "completed"
    },
    "tags": []
   },
   "outputs": [],
   "source": [
    "model = YOLOv3LightningModule(config=cfg)"
   ]
  },
  {
   "cell_type": "code",
   "execution_count": 7,
   "id": "7b410a7e",
   "metadata": {
    "execution": {
     "iopub.execute_input": "2023-11-30T16:18:00.787966Z",
     "iopub.status.busy": "2023-11-30T16:18:00.787637Z",
     "iopub.status.idle": "2023-11-30T16:18:00.855550Z",
     "shell.execute_reply": "2023-11-30T16:18:00.854845Z"
    },
    "papermill": {
     "duration": 0.077593,
     "end_time": "2023-11-30T16:18:00.857514",
     "exception": false,
     "start_time": "2023-11-30T16:18:00.779921",
     "status": "completed"
    },
    "tags": []
   },
   "outputs": [],
   "source": [
    "from callbacks import ClassAccuracyCallback, PlotExampleCallback, MAPCallback\n",
    "from pytorch_lightning.loggers import TensorBoardLogger"
   ]
  },
  {
   "cell_type": "code",
   "execution_count": 8,
   "id": "59a63386",
   "metadata": {
    "execution": {
     "iopub.execute_input": "2023-11-30T16:18:00.873053Z",
     "iopub.status.busy": "2023-11-30T16:18:00.872740Z",
     "iopub.status.idle": "2023-11-30T16:18:00.940037Z",
     "shell.execute_reply": "2023-11-30T16:18:00.939317Z"
    },
    "papermill": {
     "duration": 0.077158,
     "end_time": "2023-11-30T16:18:00.941960",
     "exception": false,
     "start_time": "2023-11-30T16:18:00.864802",
     "status": "completed"
    },
    "tags": []
   },
   "outputs": [],
   "source": [
    "EPOCHS = int(cfg.NUM_EPOCHS * 0.4)"
   ]
  },
  {
   "cell_type": "code",
   "execution_count": 9,
   "id": "bb0d497f",
   "metadata": {
    "execution": {
     "iopub.execute_input": "2023-11-30T16:18:00.957916Z",
     "iopub.status.busy": "2023-11-30T16:18:00.957624Z",
     "iopub.status.idle": "2023-11-30T16:18:01.059795Z",
     "shell.execute_reply": "2023-11-30T16:18:01.059106Z"
    },
    "papermill": {
     "duration": 0.112525,
     "end_time": "2023-11-30T16:18:01.061904",
     "exception": false,
     "start_time": "2023-11-30T16:18:00.949379",
     "status": "completed"
    },
    "tags": []
   },
   "outputs": [],
   "source": [
    "# Tensorboard logger\n",
    "tb_logger = TensorBoardLogger(save_dir=\"logs/\", name=\"model\")\n",
    "# Initialize the Lightning Trainer"
   ]
  },
  {
   "cell_type": "code",
   "execution_count": 10,
   "id": "04b91643",
   "metadata": {
    "execution": {
     "iopub.execute_input": "2023-11-30T16:18:01.077338Z",
     "iopub.status.busy": "2023-11-30T16:18:01.077072Z",
     "iopub.status.idle": "2023-11-30T16:18:01.818367Z",
     "shell.execute_reply": "2023-11-30T16:18:01.817554Z"
    },
    "papermill": {
     "duration": 0.751538,
     "end_time": "2023-11-30T16:18:01.820709",
     "exception": false,
     "start_time": "2023-11-30T16:18:01.069171",
     "status": "completed"
    },
    "tags": []
   },
   "outputs": [],
   "source": [
    "trainer = pl.Trainer(precision=\"16-mixed\", max_epochs=EPOCHS,\n",
    "                     logger= tb_logger,\n",
    "                              callbacks=[ModelCheckpoint(dirpath=\"checkpoints/\",verbose=True,),\n",
    "                              ClassAccuracyCallback(config=cfg,train_n_epochs=1, test_n_epochs=10),\n",
    "                              PlotExampleCallback(config=cfg, n_epochs = EPOCHS),\n",
    "                              MAPCallback(config=cfg, test_n_epochs = EPOCHS),\n",
    "                              RichModelSummary(max_depth=-1),\n",
    "                              LearningRateMonitor()])"
   ]
  },
  {
   "cell_type": "code",
   "execution_count": 11,
   "id": "a9cdf156",
   "metadata": {
    "execution": {
     "iopub.execute_input": "2023-11-30T16:18:01.836846Z",
     "iopub.status.busy": "2023-11-30T16:18:01.836564Z",
     "iopub.status.idle": "2023-11-30T16:18:58.401769Z",
     "shell.execute_reply": "2023-11-30T16:18:58.400796Z"
    },
    "papermill": {
     "duration": 56.575546,
     "end_time": "2023-11-30T16:18:58.404042",
     "exception": false,
     "start_time": "2023-11-30T16:18:01.828496",
     "status": "completed"
    },
    "tags": []
   },
   "outputs": [
    {
     "name": "stderr",
     "output_type": "stream",
     "text": [
      "INFO: LOCAL_RANK: 0 - CUDA_VISIBLE_DEVICES: [0,1]\n"
     ]
    },
    {
     "data": {
      "application/vnd.jupyter.widget-view+json": {
       "model_id": "f2065deea1124a94a01127cdd973fa89",
       "version_major": 2,
       "version_minor": 0
      },
      "text/plain": [
       "Finding best initial lr:   0%|          | 0/40 [00:00<?, ?it/s]"
      ]
     },
     "metadata": {},
     "output_type": "display_data"
    },
    {
     "name": "stderr",
     "output_type": "stream",
     "text": [
      "INFO: LR finder stopped early after 31 steps due to diverging loss.\n",
      "INFO: Learning rate set to 0.005011872336272723\n"
     ]
    },
    {
     "name": "stdout",
     "output_type": "stream",
     "text": [
      "new_lr=0.005011872336272723\n"
     ]
    },
    {
     "data": {
      "image/png": "[encoded data removed]",
      "text/plain": [
       "<Figure size 640x480 with 1 Axes>"
      ]
     },
     "metadata": {},
     "output_type": "display_data"
    }
   ],
   "source": [
    "from lightning.pytorch.tuner import Tuner\n",
    "\n",
    "# Create a Tuner\n",
    "tuner = Tuner(trainer)\n",
    "\n",
    "# Finding the learning rate\n",
    "lr_finder =tuner.lr_find(model,datamodule=datamodule, min_lr=1e-4, max_lr=1, num_training=trainer.max_epochs)\n",
    "\n",
    "# Plot with\n",
    "fig = lr_finder.plot(suggest=True)\n",
    "fig.show()\n",
    "# Pick point based on plot, or get suggestion\n",
    "new_lr = lr_finder.suggestion()\n",
    "print(f\"{new_lr=}\")"
   ]
  },
  {
   "cell_type": "code",
   "execution_count": 12,
   "id": "33f258ab",
   "metadata": {
    "execution": {
     "iopub.execute_input": "2023-11-30T16:18:58.421905Z",
     "iopub.status.busy": "2023-11-30T16:18:58.421187Z",
     "iopub.status.idle": "2023-11-30T16:18:58.529110Z",
     "shell.execute_reply": "2023-11-30T16:18:58.528261Z"
    },
    "papermill": {
     "duration": 0.118791,
     "end_time": "2023-11-30T16:18:58.531124",
     "exception": false,
     "start_time": "2023-11-30T16:18:58.412333",
     "status": "completed"
    },
    "tags": []
   },
   "outputs": [
    {
     "data": {
      "text/plain": [
       "'/kaggle/input/pascal-voc-dataset-used-in-yolov3-video/PASCAL_VOC'"
      ]
     },
     "execution_count": 12,
     "metadata": {},
     "output_type": "execute_result"
    }
   ],
   "source": [
    "cfg.DATASET"
   ]
  },
  {
   "cell_type": "code",
   "execution_count": null,
   "id": "e657ad17",
   "metadata": {
    "papermill": {
     "duration": 0.007696,
     "end_time": "2023-11-30T16:18:58.546887",
     "exception": false,
     "start_time": "2023-11-30T16:18:58.539191",
     "status": "completed"
    },
    "tags": []
   },
   "outputs": [],
   "source": []
  }
 ],
 "metadata": {
  "kaggle": {
   "accelerator": "nvidiaTeslaT4",
   "dataSources": [
    {
     "datasetId": 1200301,
     "sourceId": 2006107,
     "sourceType": "datasetVersion"
    }
   ],
   "dockerImageVersionId": 30588,
   "isGpuEnabled": true,
   "isInternetEnabled": true,
   "language": "python",
   "sourceType": "notebook"
  },
  "kernelspec": {
   "display_name": "Python 3",
   "language": "python",
   "name": "python3"
  },
  "language_info": {
   "codemirror_mode": {
    "name": "ipython",
    "version": 3
   },
   "file_extension": ".py",
   "mimetype": "text/x-python",
   "name": "python",
   "nbconvert_exporter": "python",
   "pygments_lexer": "ipython3",
   "version": "3.10.12"
  },
  "papermill": {
   "default_parameters": {},
   "duration": 95.69183,
   "end_time": "2023-11-30T16:19:01.723911",
   "environment_variables": {},
   "exception": null,
   "input_path": "__notebook__.ipynb",
   "output_path": "__notebook__.ipynb",
   "parameters": {},
   "start_time": "2023-11-30T16:17:26.032081",
   "version": "2.4.0"
  },
  "widgets": {
   "application/vnd.jupyter.widget-state+json": {
    "state": {
     "11287ff9a94c4e03aa6de6f85bd75834": {
      "model_module": "@jupyter-widgets/controls",
      "model_module_version": "1.5.0",
      "model_name": "FloatProgressModel",
      "state": {
       "_dom_classes": [],
       "_model_module": "@jupyter-widgets/controls",
       "_model_module_version": "1.5.0",
       "_model_name": "FloatProgressModel",
       "_view_count": null,
       "_view_module": "@jupyter-widgets/controls",
       "_view_module_version": "1.5.0",
       "_view_name": "ProgressView",
       "bar_style": "danger",
       "description": "",
       "description_tooltip": null,
       "layout": "IPY_MODEL_d8d75d9720174893b73793ccb45140f7",
       "max": 40.0,
       "min": 0.0,
       "orientation": "horizontal",
       "style": "IPY_MODEL_de112424b51d404c9934ce8c62cecf37",
       "value": 31.0
      }
     },
     "1d1008a7c005409d970f670d874cd23c": {
      "model_module": "@jupyter-widgets/controls",
      "model_module_version": "1.5.0",
      "model_name": "DescriptionStyleModel",
      "state": {
       "_model_module": "@jupyter-widgets/controls",
       "_model_module_version": "1.5.0",
       "_model_name": "DescriptionStyleModel",
       "_view_count": null,
       "_view_module": "@jupyter-widgets/base",
       "_view_module_version": "1.2.0",
       "_view_name": "StyleView",
       "description_width": ""
      }
     },
     "46982c542393413ab9560b1d64288dc6": {
      "model_module": "@jupyter-widgets/base",
      "model_module_version": "1.2.0",
      "model_name": "LayoutModel",
      "state": {
       "_model_module": "@jupyter-widgets/base",
       "_model_module_version": "1.2.0",
       "_model_name": "LayoutModel",
       "_view_count": null,
       "_view_module": "@jupyter-widgets/base",
       "_view_module_version": "1.2.0",
       "_view_name": "LayoutView",
       "align_content": null,
       "align_items": null,
       "align_self": null,
       "border": null,
       "bottom": null,
       "display": null,
       "flex": null,
       "flex_flow": null,
       "grid_area": null,
       "grid_auto_columns": null,
       "grid_auto_flow": null,
       "grid_auto_rows": null,
       "grid_column": null,
       "grid_gap": null,
       "grid_row": null,
       "grid_template_areas": null,
       "grid_template_columns": null,
       "grid_template_rows": null,
       "height": null,
       "justify_content": null,
       "justify_items": null,
       "left": null,
       "margin": null,
       "max_height": null,
       "max_width": null,
       "min_height": null,
       "min_width": null,
       "object_fit": null,
       "object_position": null,
       "order": null,
       "overflow": null,
       "overflow_x": null,
       "overflow_y": null,
       "padding": null,
       "right": null,
       "top": null,
       "visibility": null,
       "width": null
      }
     },
     "56648ccd67754abdafd6fa7c30fcb61a": {
      "model_module": "@jupyter-widgets/base",
      "model_module_version": "1.2.0",
      "model_name": "LayoutModel",
      "state": {
       "_model_module": "@jupyter-widgets/base",
       "_model_module_version": "1.2.0",
       "_model_name": "LayoutModel",
       "_view_count": null,
       "_view_module": "@jupyter-widgets/base",
       "_view_module_version": "1.2.0",
       "_view_name": "LayoutView",
       "align_content": null,
       "align_items": null,
       "align_self": null,
       "border": null,
       "bottom": null,
       "display": null,
       "flex": null,
       "flex_flow": null,
       "grid_area": null,
       "grid_auto_columns": null,
       "grid_auto_flow": null,
       "grid_auto_rows": null,
       "grid_column": null,
       "grid_gap": null,
       "grid_row": null,
       "grid_template_areas": null,
       "grid_template_columns": null,
       "grid_template_rows": null,
       "height": null,
       "justify_content": null,
       "justify_items": null,
       "left": null,
       "margin": null,
       "max_height": null,
       "max_width": null,
       "min_height": null,
       "min_width": null,
       "object_fit": null,
       "object_position": null,
       "order": null,
       "overflow": null,
       "overflow_x": null,
       "overflow_y": null,
       "padding": null,
       "right": null,
       "top": null,
       "visibility": null,
       "width": null
      }
     },
     "d66dc9c19f3045e1a125edbb56f1c9b1": {
      "model_module": "@jupyter-widgets/base",
      "model_module_version": "1.2.0",
      "model_name": "LayoutModel",
      "state": {
       "_model_module": "@jupyter-widgets/base",
       "_model_module_version": "1.2.0",
       "_model_name": "LayoutModel",
       "_view_count": null,
       "_view_module": "@jupyter-widgets/base",
       "_view_module_version": "1.2.0",
       "_view_name": "LayoutView",
       "align_content": null,
       "align_items": null,
       "align_self": null,
       "border": null,
       "bottom": null,
       "display": null,
       "flex": null,
       "flex_flow": null,
       "grid_area": null,
       "grid_auto_columns": null,
       "grid_auto_flow": null,
       "grid_auto_rows": null,
       "grid_column": null,
       "grid_gap": null,
       "grid_row": null,
       "grid_template_areas": null,
       "grid_template_columns": null,
       "grid_template_rows": null,
       "height": null,
       "justify_content": null,
       "justify_items": null,
       "left": null,
       "margin": null,
       "max_height": null,
       "max_width": null,
       "min_height": null,
       "min_width": null,
       "object_fit": null,
       "object_position": null,
       "order": null,
       "overflow": null,
       "overflow_x": null,
       "overflow_y": null,
       "padding": null,
       "right": null,
       "top": null,
       "visibility": null,
       "width": null
      }
     },
     "d8d75d9720174893b73793ccb45140f7": {
      "model_module": "@jupyter-widgets/base",
      "model_module_version": "1.2.0",
      "model_name": "LayoutModel",
      "state": {
       "_model_module": "@jupyter-widgets/base",
       "_model_module_version": "1.2.0",
       "_model_name": "LayoutModel",
       "_view_count": null,
       "_view_module": "@jupyter-widgets/base",
       "_view_module_version": "1.2.0",
       "_view_name": "LayoutView",
       "align_content": null,
       "align_items": null,
       "align_self": null,
       "border": null,
       "bottom": null,
       "display": null,
       "flex": null,
       "flex_flow": null,
       "grid_area": null,
       "grid_auto_columns": null,
       "grid_auto_flow": null,
       "grid_auto_rows": null,
       "grid_column": null,
       "grid_gap": null,
       "grid_row": null,
       "grid_template_areas": null,
       "grid_template_columns": null,
       "grid_template_rows": null,
       "height": null,
       "justify_content": null,
       "justify_items": null,
       "left": null,
       "margin": null,
       "max_height": null,
       "max_width": null,
       "min_height": null,
       "min_width": null,
       "object_fit": null,
       "object_position": null,
       "order": null,
       "overflow": null,
       "overflow_x": null,
       "overflow_y": null,
       "padding": null,
       "right": null,
       "top": null,
       "visibility": null,
       "width": null
      }
     },
     "de112424b51d404c9934ce8c62cecf37": {
      "model_module": "@jupyter-widgets/controls",
      "model_module_version": "1.5.0",
      "model_name": "ProgressStyleModel",
      "state": {
       "_model_module": "@jupyter-widgets/controls",
       "_model_module_version": "1.5.0",
       "_model_name": "ProgressStyleModel",
       "_view_count": null,
       "_view_module": "@jupyter-widgets/base",
       "_view_module_version": "1.2.0",
       "_view_name": "StyleView",
       "bar_color": null,
       "description_width": ""
      }
     },
     "e18fac0db642469781c2b31273aaa0f9": {
      "model_module": "@jupyter-widgets/controls",
      "model_module_version": "1.5.0",
      "model_name": "DescriptionStyleModel",
      "state": {
       "_model_module": "@jupyter-widgets/controls",
       "_model_module_version": "1.5.0",
       "_model_name": "DescriptionStyleModel",
       "_view_count": null,
       "_view_module": "@jupyter-widgets/base",
       "_view_module_version": "1.2.0",
       "_view_name": "StyleView",
       "description_width": ""
      }
     },
     "e362b02f087c448fb33ef1419a74b5cc": {
      "model_module": "@jupyter-widgets/controls",
      "model_module_version": "1.5.0",
      "model_name": "HTMLModel",
      "state": {
       "_dom_classes": [],
       "_model_module": "@jupyter-widgets/controls",
       "_model_module_version": "1.5.0",
       "_model_name": "HTMLModel",
       "_view_count": null,
       "_view_module": "@jupyter-widgets/controls",
       "_view_module_version": "1.5.0",
       "_view_name": "HTMLView",
       "description": "",
       "description_tooltip": null,
       "layout": "IPY_MODEL_d66dc9c19f3045e1a125edbb56f1c9b1",
       "placeholder": "​",
       "style": "IPY_MODEL_e18fac0db642469781c2b31273aaa0f9",
       "value": "Finding best initial lr:  78%"
      }
     },
     "f2065deea1124a94a01127cdd973fa89": {
      "model_module": "@jupyter-widgets/controls",
      "model_module_version": "1.5.0",
      "model_name": "HBoxModel",
      "state": {
       "_dom_classes": [],
       "_model_module": "@jupyter-widgets/controls",
       "_model_module_version": "1.5.0",
       "_model_name": "HBoxModel",
       "_view_count": null,
       "_view_module": "@jupyter-widgets/controls",
       "_view_module_version": "1.5.0",
       "_view_name": "HBoxView",
       "box_style": "",
       "children": [
        "IPY_MODEL_e362b02f087c448fb33ef1419a74b5cc",
        "IPY_MODEL_11287ff9a94c4e03aa6de6f85bd75834",
        "IPY_MODEL_fbc2571c381445fda6b5e1150837de0c"
       ],
       "layout": "IPY_MODEL_56648ccd67754abdafd6fa7c30fcb61a"
      }
     },
     "fbc2571c381445fda6b5e1150837de0c": {
      "model_module": "@jupyter-widgets/controls",
      "model_module_version": "1.5.0",
      "model_name": "HTMLModel",
      "state": {
       "_dom_classes": [],
       "_model_module": "@jupyter-widgets/controls",
       "_model_module_version": "1.5.0",
       "_model_name": "HTMLModel",
       "_view_count": null,
       "_view_module": "@jupyter-widgets/controls",
       "_view_module_version": "1.5.0",
       "_view_name": "HTMLView",
       "description": "",
       "description_tooltip": null,
       "layout": "IPY_MODEL_46982c542393413ab9560b1d64288dc6",
       "placeholder": "​",
       "style": "IPY_MODEL_1d1008a7c005409d970f670d874cd23c",
       "value": " 31/40 [00:31&lt;00:07,  1.17it/s]"
      }
     }
    },
    "version_major": 2,
    "version_minor": 0
   }
  }
 },
 "nbformat": 4,
 "nbformat_minor": 5
}
